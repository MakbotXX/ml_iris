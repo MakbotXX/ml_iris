{
 "cells": [
  {
   "cell_type": "markdown",
   "metadata": {
    "id": "R-PJzM_fWCB-"
   },
   "source": [
    "# 1. Описание набора данных, Постановка задачи, Описание выбранного классификатора\n",
    "\n",
    "Этот проект представляет собой применение машинного обучения с программированием на Python на примере классификации цветов IRIS с использованием машинного обучения с инструментами scikit. \n",
    "Здесь используются алгоритмы, которые представляют собой некоторые типы машинного обучения с учителем и без учителя. \n",
    "\n",
    "## Набор данных\n",
    "\n",
    "[Ирисы Фишера](https://ru.wikipedia.org/wiki/%D0%98%D1%80%D0%B8%D1%81%D1%8B_%D0%A4%D0%B8%D1%88%D0%B5%D1%80%D0%B0) — набор данных для задачи классификации, на примере которого Рональд Фишер в 1936 году продемонстрировал работу разработанного им метода дискриминантного анализа. Иногда его также называют ирисами Андерсона, так как данные были собраны американским ботаником Эдгаром Андерсоном. Этот набор данных стал классическим и часто используется в литературе для иллюстрации работы различных статистических алгоритмов. \n",
    "\n",
    "Ирисы Фишера состоят из данных о 150 экземплярах ириса, по 50 экземпляров из трёх видов — Ирис щетинистый (Iris setosa), Ирис виргинский (Iris virginica) и Ирис разноцветный (Iris versicolor). Для каждого экземпляра измерялись четыре характеристики (в сантиметрах):\n",
    "\n",
    "- Длина наружной доли околоцветника (англ. sepal length);\n",
    "- Ширина наружной доли околоцветника (англ. sepal width);\n",
    "- Длина внутренней доли околоцветника (англ. petal length);\n",
    "- Ширина внутренней доли околоцветника (англ. petal width).\n",
    "\n",
    "## Постановка задачи\n",
    "\n",
    "На основании этого набора данных требуется построить правило классификации, определяющее вид растения по данным измерений. Это задача многоклассовой классификации, так как имеется три класса — три вида ириса.\n",
    "\n",
    "Один из классов (Iris setosa) линейно-разделим от двух остальных.\n",
    "\n",
    "## Описание классификатора\n",
    "\n",
    "Дерево решений — это метод представления решающих правил в иерархической структуре, состоящей из элементов двух типов — узлов (node) и листьев (leaf). В узлах находятся решающие правила и производится проверка соответствия примеров этому правилу по какому-либо атрибуту обучающего множества."
   ]
  },
  {
   "cell_type": "markdown",
   "metadata": {},
   "source": [
    "## 2. Чтение данных"
   ]
  },
  {
   "cell_type": "code",
   "execution_count": 3,
   "metadata": {
    "id": "UXmCE0CDWmKV"
   },
   "outputs": [],
   "source": [
    "# Подключаем библиотеки\n",
    "import pandas as pd # Работа с набором данных\n",
    "import numpy as np # Линейная алгебра\n",
    "# Визуализация данных\n",
    "import matplotlib.pyplot as plt\n",
    "\n",
    "# отключение информационных сообщений\n",
    "from warnings import filterwarnings\n",
    "filterwarnings(action='ignore')\n",
    "\n",
    "# разделение выборки\n",
    "from sklearn.model_selection import train_test_split\n",
    "#деревья решений\n",
    "from sklearn.tree import DecisionTreeClassifier, plot_tree\n",
    "#метрики\n",
    "from sklearn import metrics\n",
    "#Наивный байесовский классификатор\n",
    "from sklearn.neighbors import KNeighborsClassifier\n",
    "from sklearn.naive_bayes import GaussianNB"
   ]
  },
  {
   "cell_type": "code",
   "execution_count": 4,
   "metadata": {
    "colab": {
     "base_uri": "https://localhost:8080/",
     "height": 206
    },
    "id": "s0rGanDwXhJ-",
    "outputId": "dd0cff84-309d-4c3e-cbe8-9155b1ec73dc"
   },
   "outputs": [
    {
     "data": {
      "text/html": [
       "<div>\n",
       "<style scoped>\n",
       "    .dataframe tbody tr th:only-of-type {\n",
       "        vertical-align: middle;\n",
       "    }\n",
       "\n",
       "    .dataframe tbody tr th {\n",
       "        vertical-align: top;\n",
       "    }\n",
       "\n",
       "    .dataframe thead th {\n",
       "        text-align: right;\n",
       "    }\n",
       "</style>\n",
       "<table border=\"1\" class=\"dataframe\">\n",
       "  <thead>\n",
       "    <tr style=\"text-align: right;\">\n",
       "      <th></th>\n",
       "      <th>sepal_length</th>\n",
       "      <th>sepal_width</th>\n",
       "      <th>petal_length</th>\n",
       "      <th>petal_width</th>\n",
       "      <th>species</th>\n",
       "    </tr>\n",
       "  </thead>\n",
       "  <tbody>\n",
       "    <tr>\n",
       "      <th>0</th>\n",
       "      <td>5.1</td>\n",
       "      <td>3.5</td>\n",
       "      <td>1.4</td>\n",
       "      <td>0.2</td>\n",
       "      <td>Iris-setosa</td>\n",
       "    </tr>\n",
       "    <tr>\n",
       "      <th>1</th>\n",
       "      <td>4.9</td>\n",
       "      <td>3.0</td>\n",
       "      <td>1.4</td>\n",
       "      <td>0.2</td>\n",
       "      <td>Iris-setosa</td>\n",
       "    </tr>\n",
       "    <tr>\n",
       "      <th>2</th>\n",
       "      <td>4.7</td>\n",
       "      <td>3.2</td>\n",
       "      <td>1.3</td>\n",
       "      <td>0.2</td>\n",
       "      <td>Iris-setosa</td>\n",
       "    </tr>\n",
       "    <tr>\n",
       "      <th>3</th>\n",
       "      <td>4.6</td>\n",
       "      <td>3.1</td>\n",
       "      <td>1.5</td>\n",
       "      <td>0.2</td>\n",
       "      <td>Iris-setosa</td>\n",
       "    </tr>\n",
       "    <tr>\n",
       "      <th>4</th>\n",
       "      <td>5.0</td>\n",
       "      <td>3.6</td>\n",
       "      <td>1.4</td>\n",
       "      <td>0.2</td>\n",
       "      <td>Iris-setosa</td>\n",
       "    </tr>\n",
       "  </tbody>\n",
       "</table>\n",
       "</div>"
      ],
      "text/plain": [
       "   sepal_length  sepal_width  petal_length  petal_width      species\n",
       "0           5.1          3.5           1.4          0.2  Iris-setosa\n",
       "1           4.9          3.0           1.4          0.2  Iris-setosa\n",
       "2           4.7          3.2           1.3          0.2  Iris-setosa\n",
       "3           4.6          3.1           1.5          0.2  Iris-setosa\n",
       "4           5.0          3.6           1.4          0.2  Iris-setosa"
      ]
     },
     "execution_count": 4,
     "metadata": {},
     "output_type": "execute_result"
    }
   ],
   "source": [
    "# читаем данные\n",
    "url = 'https://raw.githubusercontent.com/yakushinav/journ_prg/main/iris.csv'\n",
    "data = pd.read_csv(url)\n",
    "data.head(5)"
   ]
  },
  {
   "cell_type": "markdown",
   "metadata": {},
   "source": [
    "## 3. Характеристики набора данных и визуализация"
   ]
  },
  {
   "cell_type": "code",
   "execution_count": 5,
   "metadata": {
    "colab": {
     "base_uri": "https://localhost:8080/"
    },
    "id": "al6FXVsYat6n",
    "outputId": "d802326f-db41-4e06-fec5-aac5767a24eb"
   },
   "outputs": [
    {
     "data": {
      "text/plain": [
       "sepal_length    float64\n",
       "sepal_width     float64\n",
       "petal_length    float64\n",
       "petal_width     float64\n",
       "species          object\n",
       "dtype: object"
      ]
     },
     "execution_count": 5,
     "metadata": {},
     "output_type": "execute_result"
    }
   ],
   "source": [
    "# типы полей\n",
    "data.dtypes"
   ]
  },
  {
   "cell_type": "code",
   "execution_count": 9,
   "metadata": {
    "colab": {
     "base_uri": "https://localhost:8080/",
     "height": 300
    },
    "id": "a0AtCnULawof",
    "outputId": "d32a26c1-d505-4563-cdb0-245b443026ea"
   },
   "outputs": [
    {
     "name": "stdout",
     "output_type": "stream",
     "text": [
      "       sepal_length  sepal_width  petal_length  petal_width\n",
      "count    150.000000   150.000000    150.000000   150.000000\n",
      "mean       5.843333     3.054000      3.758667     1.198667\n",
      "std        0.828066     0.433594      1.764420     0.763161\n",
      "min        4.300000     2.000000      1.000000     0.100000\n",
      "25%        5.100000     2.800000      1.600000     0.300000\n",
      "50%        5.800000     3.000000      4.350000     1.300000\n",
      "75%        6.400000     3.300000      5.100000     1.800000\n",
      "max        7.900000     4.400000      6.900000     2.500000\n"
     ]
    },
    {
     "data": {
      "text/plain": [
       "sepal_length    float64\n",
       "sepal_width     float64\n",
       "petal_length    float64\n",
       "petal_width     float64\n",
       "species          object\n",
       "dtype: object"
      ]
     },
     "execution_count": 9,
     "metadata": {},
     "output_type": "execute_result"
    }
   ],
   "source": [
    "# Описательная статистика, применяется для числовых полей\n",
    "print(data.describe())\n",
    "# Найдите описательную статистику по каждоу классу отдельно (нужно использовать фильт данных в pandas)\n",
    "data.dtypes"
   ]
  },
  {
   "cell_type": "code",
   "execution_count": 7,
   "metadata": {
    "colab": {
     "base_uri": "https://localhost:8080/"
    },
    "id": "wXQNzR0sa9X1",
    "outputId": "afd1ea54-6c88-4b2f-eae5-7e8710ef122f"
   },
   "outputs": [
    {
     "data": {
      "text/plain": [
       "species\n",
       "Iris-setosa        50\n",
       "Iris-versicolor    50\n",
       "Iris-virginica     50\n",
       "dtype: int64"
      ]
     },
     "execution_count": 7,
     "metadata": {},
     "output_type": "execute_result"
    }
   ],
   "source": [
    "# количество объектов каждого класса\n",
    "data.groupby('species').size()"
   ]
  },
  {
   "cell_type": "code",
   "execution_count": 10,
   "metadata": {
    "colab": {
     "base_uri": "https://localhost:8080/",
     "height": 300
    },
    "id": "_J6g0MIJbOf-",
    "outputId": "2f319156-cceb-4c7c-eb1b-b9f6cc3e9d2d"
   },
   "outputs": [
    {
     "data": {
      "image/png": "[encoded data removed]",
      "text/plain": [
       "<Figure size 640x480 with 1 Axes>"
      ]
     },
     "metadata": {},
     "output_type": "display_data"
    },
    {
     "data": {
      "image/png": "[encoded data removed]",
      "text/plain": [
       "<Figure size 1000x400 with 2 Axes>"
      ]
     },
     "metadata": {},
     "output_type": "display_data"
    }
   ],
   "source": [
    "data.plot(kind='scatter',x='sepal_length', y='sepal_width') # создадим точечную диаграмму \n",
    "# далее постройте аналогичную диаграмму по petal_length\tpetal_width\n",
    "plt.figure(figsize=(10,4))\n",
    "plt.subplot(1,2,1)\n",
    "data.plot(kind='scatter',x='sepal_length', y='sepal_width', ax=plt.gca())\n",
    "plt.subplot(1,2,2)\n",
    "data.plot(kind='scatter',x='petal_length', y='petal_width', ax=plt.gca())\n",
    "plt.tight_layout()\n",
    "plt.show()\n"
   ]
  },
  {
   "cell_type": "code",
   "execution_count": 11,
   "metadata": {
    "colab": {
     "base_uri": "https://localhost:8080/",
     "height": 299
    },
    "id": "zDwRPDHycT2X",
    "outputId": "a7d8d770-4ad9-45bf-f71e-c1941226063e"
   },
   "outputs": [
    {
     "data": {
      "image/png": "[encoded data removed]",
      "text/plain": [
       "<Figure size 1000x600 with 4 Axes>"
      ]
     },
     "metadata": {},
     "output_type": "display_data"
    }
   ],
   "source": [
    "# Гистограммы по каждому параметру\n",
    "n_bins = 10\n",
    "fig, axs = plt.subplots(2, 2, figsize=(10,6))\n",
    "axs[0,0].hist(data['sepal_length'], bins = n_bins); axs[0,0].set_title('Sepal Length');\n",
    "axs[0,1].hist(data['sepal_width'], bins = n_bins); axs[0,1].set_title('Sepal Width');\n",
    "axs[1,0].hist(data['petal_length'], bins = n_bins); axs[1,0].set_title('Petal Length');\n",
    "axs[1,1].hist(data['petal_width'], bins = n_bins); axs[1,1].set_title('Petal Width');\n",
    "fig.tight_layout(pad=1.0)"
   ]
  },
  {
   "cell_type": "markdown",
   "metadata": {},
   "source": [
    "## 4. Разделение выборки"
   ]
  },
  {
   "cell_type": "code",
   "execution_count": 12,
   "metadata": {
    "id": "F6rRqP1yggi2"
   },
   "outputs": [],
   "source": [
    "# Разделим выборку на обучающую и тестовую\n",
    "train, test = train_test_split(data, test_size = 0.4, stratify = data['species'], random_state = 42)\n",
    "X_train = train[['sepal_length','sepal_width','petal_length','petal_width']]\n",
    "y_train = train.species\n",
    "X_test = test[['sepal_length','sepal_width','petal_length','petal_width']]\n",
    "y_test = test.species"
   ]
  },
  {
   "cell_type": "markdown",
   "metadata": {},
   "source": [
    "## 5. Создание модели машинного обучения"
   ]
  },
  {
   "cell_type": "code",
   "execution_count": 14,
   "metadata": {
    "colab": {
     "base_uri": "https://localhost:8080/",
     "height": 553
    },
    "id": "q0GpLRYyhDnZ",
    "outputId": "a2b96a9c-06e0-4111-e94f-baaff0e5aa4d",
    "scrolled": true
   },
   "outputs": [
    {
     "name": "stdout",
     "output_type": "stream",
     "text": [
      "Decision Tree Accuracy: 0.983\n",
      "Confusion Matrix:\n",
      "[[20  0  0]\n",
      " [ 0 19  1]\n",
      " [ 0  0 20]]\n",
      "\n",
      "KNN Accuracy: 0.967\n",
      "Confusion Matrix:\n",
      "[[20  0  0]\n",
      " [ 0 20  0]\n",
      " [ 0  2 18]]\n",
      "\n",
      "Naive Bayes Accuracy: 0.933\n",
      "Confusion Matrix:\n",
      "[[20  0  0]\n",
      " [ 0 19  1]\n",
      " [ 0  3 17]]\n",
      "\n"
     ]
    }
   ],
   "source": [
    "# Деревья решений\n",
    "# Параметр random_state задает начальную инициализацию генератора псевдслучайных чисел, чтобы данные были одинаковые при каждом запуске\n",
    "\n",
    "#Выбираем классификатор\n",
    "mod_dt = DecisionTreeClassifier(max_depth = 3, random_state = 1)\n",
    "#Проводим обучение\n",
    "mod_dt.fit(X_train,y_train)\n",
    "models = {\n",
    "    'Decision Tree': DecisionTreeClassifier(max_depth=3, random_state=1),\n",
    "    'KNN': KNeighborsClassifier(n_neighbors=3),\n",
    "    'Naive Bayes': GaussianNB()\n",
    "}\n",
    "\n",
    "results = {}\n",
    "\n",
    "for name, model in models.items():\n",
    "    model.fit(X_train, y_train)\n",
    "    y_pred = model.predict(X_test)\n",
    "    acc = metrics.accuracy_score(y_test, y_pred)\n",
    "    results[name] = acc\n",
    "    print(f'{name} Accuracy: {acc:.3f}')\n",
    "    print(f'Confusion Matrix:\\n{metrics.confusion_matrix(y_test, y_pred)}\\n')"
   ]
  },
  {
   "cell_type": "markdown",
   "metadata": {},
   "source": [
    "## 6. Оценка качества модели машинного обучения"
   ]
  },
  {
   "cell_type": "code",
   "execution_count": 15,
   "metadata": {},
   "outputs": [
    {
     "name": "stdout",
     "output_type": "stream",
     "text": [
      "accuracy (точность) классификатора Деревья решений 0.983\n",
      "матрица ошибок\n",
      "[[20  0  0]\n",
      " [ 0 19  1]\n",
      " [ 0  0 20]]\n",
      "Лучшая модель: Decision Tree с точностью 0.983\n",
      "\n"
     ]
    }
   ],
   "source": [
    "#Выполняем предсказание\n",
    "y_pred=mod_dt.predict(X_test)\n",
    "\n",
    "print('accuracy (точность) классификатора Деревья решений',\"{:.3f}\".format(metrics.accuracy_score(y_pred,y_test)))\n",
    "\n",
    "# матрица ошибок\n",
    "print(\"матрица ошибок\")\n",
    "print(metrics.confusion_matrix(y_test, y_pred))\n",
    "\n",
    "best_model_name = max(results, key=results.get)\n",
    "best_model = models[best_model_name]\n",
    "print(f'Лучшая модель: {best_model_name} с точностью {results[best_model_name]:.3f}\\n')"
   ]
  },
  {
   "cell_type": "markdown",
   "metadata": {},
   "source": [
    "## 7. Применение построенной модели машинного обучения"
   ]
  },
  {
   "cell_type": "code",
   "execution_count": 18,
   "metadata": {},
   "outputs": [
    {
     "name": "stdout",
     "output_type": "stream",
     "text": [
      "Примеры классификации:\n",
      "   sepal_length  sepal_width  petal_length  petal_width\n",
      "0           4.9          3.6           1.8          0.7\n",
      "1           6.7          3.0           5.2          2.3\n",
      "2           5.1          2.5           3.0          1.1\n",
      "Предсказанные классы: ['Iris-setosa' 'Iris-virginica' 'Iris-versicolor']\n"
     ]
    }
   ],
   "source": [
    "examples = pd.DataFrame({\n",
    "    'sepal_length': [4.9, 6.7, 5.1],\n",
    "    'sepal_width':  [3.6, 3.0, 2.5],\n",
    "    'petal_length': [1.8, 5.2, 3.0],\n",
    "    'petal_width':  [0.7, 2.3, 1.1]\n",
    "})\n",
    "\n",
    "predictions = best_model.predict(examples)\n",
    "print(\"Примеры классификации:\")\n",
    "print(examples)\n",
    "print(\"Предсказанные классы:\", predictions)"
   ]
  },
  {
   "cell_type": "code",
   "execution_count": null,
   "metadata": {},
   "outputs": [],
   "source": []
  }
 ],
 "metadata": {
  "colab": {
   "provenance": []
  },
  "kernelspec": {
   "display_name": "Python 3 (ipykernel)",
   "language": "python",
   "name": "python3"
  },
  "language_info": {
   "codemirror_mode": {
    "name": "ipython",
    "version": 3
   },
   "file_extension": ".py",
   "mimetype": "text/x-python",
   "name": "python",
   "nbconvert_exporter": "python",
   "pygments_lexer": "ipython3",
   "version": "3.12.10"
  }
 },
 "nbformat": 4,
 "nbformat_minor": 4
}
